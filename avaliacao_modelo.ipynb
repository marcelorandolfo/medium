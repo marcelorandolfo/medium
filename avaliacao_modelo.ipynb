{
  "nbformat": 4,
  "nbformat_minor": 0,
  "metadata": {
    "colab": {
      "name": "avaliacao_modelo.ipynb",
      "provenance": [],
      "collapsed_sections": [],
      "authorship_tag": "ABX9TyOT2Sr7b0th74NIMNafOrzo",
      "include_colab_link": true
    },
    "kernelspec": {
      "name": "python3",
      "display_name": "Python 3"
    }
  },
  "cells": [
    {
      "cell_type": "markdown",
      "metadata": {
        "id": "view-in-github",
        "colab_type": "text"
      },
      "source": [
        "<a href=\"https://colab.research.google.com/github/marcelorandolfo/medium/blob/master/avaliacao_modelo.ipynb\" target=\"_parent\"><img src=\"https://colab.research.google.com/assets/colab-badge.svg\" alt=\"Open In Colab\"/></a>"
      ]
    },
    {
      "cell_type": "markdown",
      "metadata": {
        "id": "5M0cgLXpng2N",
        "colab_type": "text"
      },
      "source": [
        "### Preparação"
      ]
    },
    {
      "cell_type": "code",
      "metadata": {
        "id": "6YDpte_Lmeqy",
        "colab_type": "code",
        "colab": {
          "base_uri": "https://localhost:8080/",
          "height": 204
        },
        "outputId": "37bc1bc1-fd5e-4866-baeb-85cc91ce7fd3"
      },
      "source": [
        "# importar as bibliotecas necessárias\n",
        "import pandas as pd\n",
        "import matplotlib.pyplot as plt\n",
        "import numpy as np\n",
        "import seaborn as sns\n",
        "\n",
        "# estilo notebook\n",
        "sns.set()\n",
        "\n",
        "# url dos datasets\n",
        "url_path = 'https://raw.githubusercontent.com/marcelorandolfo/data-science/master/data/heart_disease_processed.csv'\n",
        "\n",
        "# importar dataset da UCI\n",
        "df = pd.read_csv(url_path)\n",
        "\n",
        "# visualizar as primeiras 5 entradas\n",
        "df.head()"
      ],
      "execution_count": 1,
      "outputs": [
        {
          "output_type": "execute_result",
          "data": {
            "text/html": [
              "<div>\n",
              "<style scoped>\n",
              "    .dataframe tbody tr th:only-of-type {\n",
              "        vertical-align: middle;\n",
              "    }\n",
              "\n",
              "    .dataframe tbody tr th {\n",
              "        vertical-align: top;\n",
              "    }\n",
              "\n",
              "    .dataframe thead th {\n",
              "        text-align: right;\n",
              "    }\n",
              "</style>\n",
              "<table border=\"1\" class=\"dataframe\">\n",
              "  <thead>\n",
              "    <tr style=\"text-align: right;\">\n",
              "      <th></th>\n",
              "      <th>age</th>\n",
              "      <th>sex</th>\n",
              "      <th>cp</th>\n",
              "      <th>trestbps</th>\n",
              "      <th>chol</th>\n",
              "      <th>fbs</th>\n",
              "      <th>restecg</th>\n",
              "      <th>thalach</th>\n",
              "      <th>exang</th>\n",
              "      <th>oldpeak</th>\n",
              "      <th>slope</th>\n",
              "      <th>ca</th>\n",
              "      <th>thal</th>\n",
              "      <th>num</th>\n",
              "    </tr>\n",
              "  </thead>\n",
              "  <tbody>\n",
              "    <tr>\n",
              "      <th>0</th>\n",
              "      <td>63.0</td>\n",
              "      <td>1.0</td>\n",
              "      <td>1.0</td>\n",
              "      <td>145.0</td>\n",
              "      <td>233.0</td>\n",
              "      <td>1.0</td>\n",
              "      <td>2.0</td>\n",
              "      <td>150.0</td>\n",
              "      <td>0.0</td>\n",
              "      <td>2.3</td>\n",
              "      <td>3.0</td>\n",
              "      <td>0.0</td>\n",
              "      <td>6.0</td>\n",
              "      <td>0</td>\n",
              "    </tr>\n",
              "    <tr>\n",
              "      <th>1</th>\n",
              "      <td>67.0</td>\n",
              "      <td>1.0</td>\n",
              "      <td>4.0</td>\n",
              "      <td>160.0</td>\n",
              "      <td>286.0</td>\n",
              "      <td>0.0</td>\n",
              "      <td>2.0</td>\n",
              "      <td>108.0</td>\n",
              "      <td>1.0</td>\n",
              "      <td>1.5</td>\n",
              "      <td>2.0</td>\n",
              "      <td>3.0</td>\n",
              "      <td>3.0</td>\n",
              "      <td>1</td>\n",
              "    </tr>\n",
              "    <tr>\n",
              "      <th>2</th>\n",
              "      <td>67.0</td>\n",
              "      <td>1.0</td>\n",
              "      <td>4.0</td>\n",
              "      <td>120.0</td>\n",
              "      <td>229.0</td>\n",
              "      <td>0.0</td>\n",
              "      <td>2.0</td>\n",
              "      <td>129.0</td>\n",
              "      <td>1.0</td>\n",
              "      <td>2.6</td>\n",
              "      <td>2.0</td>\n",
              "      <td>2.0</td>\n",
              "      <td>7.0</td>\n",
              "      <td>1</td>\n",
              "    </tr>\n",
              "    <tr>\n",
              "      <th>3</th>\n",
              "      <td>37.0</td>\n",
              "      <td>1.0</td>\n",
              "      <td>3.0</td>\n",
              "      <td>130.0</td>\n",
              "      <td>250.0</td>\n",
              "      <td>0.0</td>\n",
              "      <td>0.0</td>\n",
              "      <td>187.0</td>\n",
              "      <td>0.0</td>\n",
              "      <td>3.5</td>\n",
              "      <td>3.0</td>\n",
              "      <td>0.0</td>\n",
              "      <td>3.0</td>\n",
              "      <td>0</td>\n",
              "    </tr>\n",
              "    <tr>\n",
              "      <th>4</th>\n",
              "      <td>41.0</td>\n",
              "      <td>0.0</td>\n",
              "      <td>2.0</td>\n",
              "      <td>130.0</td>\n",
              "      <td>204.0</td>\n",
              "      <td>0.0</td>\n",
              "      <td>2.0</td>\n",
              "      <td>172.0</td>\n",
              "      <td>0.0</td>\n",
              "      <td>1.4</td>\n",
              "      <td>1.0</td>\n",
              "      <td>0.0</td>\n",
              "      <td>3.0</td>\n",
              "      <td>0</td>\n",
              "    </tr>\n",
              "  </tbody>\n",
              "</table>\n",
              "</div>"
            ],
            "text/plain": [
              "    age  sex   cp  trestbps   chol  fbs  ...  exang  oldpeak  slope   ca  thal  num\n",
              "0  63.0  1.0  1.0     145.0  233.0  1.0  ...    0.0      2.3    3.0  0.0   6.0    0\n",
              "1  67.0  1.0  4.0     160.0  286.0  0.0  ...    1.0      1.5    2.0  3.0   3.0    1\n",
              "2  67.0  1.0  4.0     120.0  229.0  0.0  ...    1.0      2.6    2.0  2.0   7.0    1\n",
              "3  37.0  1.0  3.0     130.0  250.0  0.0  ...    0.0      3.5    3.0  0.0   3.0    0\n",
              "4  41.0  0.0  2.0     130.0  204.0  0.0  ...    0.0      1.4    1.0  0.0   3.0    0\n",
              "\n",
              "[5 rows x 14 columns]"
            ]
          },
          "metadata": {
            "tags": []
          },
          "execution_count": 1
        }
      ]
    },
    {
      "cell_type": "code",
      "metadata": {
        "id": "UnLuHyfynDFH",
        "colab_type": "code",
        "colab": {
          "base_uri": "https://localhost:8080/",
          "height": 51
        },
        "outputId": "8a8e28de-8907-4095-dafd-70bc2201bc24"
      },
      "source": [
        "# obtendo o tamanho do dataframe\n",
        "\n",
        "print('Número de entradas/pacientes:\\t {}'.format(df.shape[0]))\n",
        "print('Número de variáveis/atributos pessoais e médicos:\\t {}'.format(df.shape[1]))"
      ],
      "execution_count": 2,
      "outputs": [
        {
          "output_type": "stream",
          "text": [
            "Número de entradas/pacientes:\t 297\n",
            "Número de variáveis/atributos pessoais e médicos:\t 14\n"
          ],
          "name": "stdout"
        }
      ]
    },
    {
      "cell_type": "code",
      "metadata": {
        "id": "LcoV5y8KnLaY",
        "colab_type": "code",
        "colab": {
          "base_uri": "https://localhost:8080/",
          "height": 170
        },
        "outputId": "035d8865-f906-4992-fafa-9f71374ff2ec"
      },
      "source": [
        "pd.options.mode.chained_assignment = None\n",
        "# criando dataset auxiliar\n",
        "df_aux = df.tail(10)\n",
        "\n",
        "# eliminando valores de df_teste do dataset original\n",
        "df_model = df.drop(index = df_aux.index)\n",
        "\n",
        "# arrumando index de df_teste\n",
        "df_aux.reset_index(inplace = True)\n",
        "df_aux.drop('index', axis = 1, inplace = True)\n",
        "\n",
        "# obtendo o novo tamanho do dataframe\n",
        "print('DataFrame principal:\\n')\n",
        "print('Número de entradas/pacientes:\\t {}'.format(df_model.shape[0]))\n",
        "print('Número de variáveis/atributos pessoais e médicos:\\t {}\\n'.format(df_model.shape[1]))\n",
        "\n",
        "# obtendo o tamanho do dataframe auxiliar\n",
        "print('DataFrame de teste:\\n')\n",
        "print('Número de entradas/pacientes:\\t {}'.format(df_aux.shape[0]))\n",
        "print('Número de variáveis/atributos pessoais e médicos:\\t {}'.format(df_aux.shape[1]))"
      ],
      "execution_count": 3,
      "outputs": [
        {
          "output_type": "stream",
          "text": [
            "DataFrame principal:\n",
            "\n",
            "Número de entradas/pacientes:\t 287\n",
            "Número de variáveis/atributos pessoais e médicos:\t 14\n",
            "\n",
            "DataFrame de teste:\n",
            "\n",
            "Número de entradas/pacientes:\t 10\n",
            "Número de variáveis/atributos pessoais e médicos:\t 14\n"
          ],
          "name": "stdout"
        }
      ]
    },
    {
      "cell_type": "code",
      "metadata": {
        "id": "PCNVmq7wnPgc",
        "colab_type": "code",
        "colab": {
          "base_uri": "https://localhost:8080/",
          "height": 204
        },
        "outputId": "8a69f300-2b82-4082-c2e6-6e2ea9582b67"
      },
      "source": [
        "df_model.head()"
      ],
      "execution_count": 4,
      "outputs": [
        {
          "output_type": "execute_result",
          "data": {
            "text/html": [
              "<div>\n",
              "<style scoped>\n",
              "    .dataframe tbody tr th:only-of-type {\n",
              "        vertical-align: middle;\n",
              "    }\n",
              "\n",
              "    .dataframe tbody tr th {\n",
              "        vertical-align: top;\n",
              "    }\n",
              "\n",
              "    .dataframe thead th {\n",
              "        text-align: right;\n",
              "    }\n",
              "</style>\n",
              "<table border=\"1\" class=\"dataframe\">\n",
              "  <thead>\n",
              "    <tr style=\"text-align: right;\">\n",
              "      <th></th>\n",
              "      <th>age</th>\n",
              "      <th>sex</th>\n",
              "      <th>cp</th>\n",
              "      <th>trestbps</th>\n",
              "      <th>chol</th>\n",
              "      <th>fbs</th>\n",
              "      <th>restecg</th>\n",
              "      <th>thalach</th>\n",
              "      <th>exang</th>\n",
              "      <th>oldpeak</th>\n",
              "      <th>slope</th>\n",
              "      <th>ca</th>\n",
              "      <th>thal</th>\n",
              "      <th>num</th>\n",
              "    </tr>\n",
              "  </thead>\n",
              "  <tbody>\n",
              "    <tr>\n",
              "      <th>0</th>\n",
              "      <td>63.0</td>\n",
              "      <td>1.0</td>\n",
              "      <td>1.0</td>\n",
              "      <td>145.0</td>\n",
              "      <td>233.0</td>\n",
              "      <td>1.0</td>\n",
              "      <td>2.0</td>\n",
              "      <td>150.0</td>\n",
              "      <td>0.0</td>\n",
              "      <td>2.3</td>\n",
              "      <td>3.0</td>\n",
              "      <td>0.0</td>\n",
              "      <td>6.0</td>\n",
              "      <td>0</td>\n",
              "    </tr>\n",
              "    <tr>\n",
              "      <th>1</th>\n",
              "      <td>67.0</td>\n",
              "      <td>1.0</td>\n",
              "      <td>4.0</td>\n",
              "      <td>160.0</td>\n",
              "      <td>286.0</td>\n",
              "      <td>0.0</td>\n",
              "      <td>2.0</td>\n",
              "      <td>108.0</td>\n",
              "      <td>1.0</td>\n",
              "      <td>1.5</td>\n",
              "      <td>2.0</td>\n",
              "      <td>3.0</td>\n",
              "      <td>3.0</td>\n",
              "      <td>1</td>\n",
              "    </tr>\n",
              "    <tr>\n",
              "      <th>2</th>\n",
              "      <td>67.0</td>\n",
              "      <td>1.0</td>\n",
              "      <td>4.0</td>\n",
              "      <td>120.0</td>\n",
              "      <td>229.0</td>\n",
              "      <td>0.0</td>\n",
              "      <td>2.0</td>\n",
              "      <td>129.0</td>\n",
              "      <td>1.0</td>\n",
              "      <td>2.6</td>\n",
              "      <td>2.0</td>\n",
              "      <td>2.0</td>\n",
              "      <td>7.0</td>\n",
              "      <td>1</td>\n",
              "    </tr>\n",
              "    <tr>\n",
              "      <th>3</th>\n",
              "      <td>37.0</td>\n",
              "      <td>1.0</td>\n",
              "      <td>3.0</td>\n",
              "      <td>130.0</td>\n",
              "      <td>250.0</td>\n",
              "      <td>0.0</td>\n",
              "      <td>0.0</td>\n",
              "      <td>187.0</td>\n",
              "      <td>0.0</td>\n",
              "      <td>3.5</td>\n",
              "      <td>3.0</td>\n",
              "      <td>0.0</td>\n",
              "      <td>3.0</td>\n",
              "      <td>0</td>\n",
              "    </tr>\n",
              "    <tr>\n",
              "      <th>4</th>\n",
              "      <td>41.0</td>\n",
              "      <td>0.0</td>\n",
              "      <td>2.0</td>\n",
              "      <td>130.0</td>\n",
              "      <td>204.0</td>\n",
              "      <td>0.0</td>\n",
              "      <td>2.0</td>\n",
              "      <td>172.0</td>\n",
              "      <td>0.0</td>\n",
              "      <td>1.4</td>\n",
              "      <td>1.0</td>\n",
              "      <td>0.0</td>\n",
              "      <td>3.0</td>\n",
              "      <td>0</td>\n",
              "    </tr>\n",
              "  </tbody>\n",
              "</table>\n",
              "</div>"
            ],
            "text/plain": [
              "    age  sex   cp  trestbps   chol  fbs  ...  exang  oldpeak  slope   ca  thal  num\n",
              "0  63.0  1.0  1.0     145.0  233.0  1.0  ...    0.0      2.3    3.0  0.0   6.0    0\n",
              "1  67.0  1.0  4.0     160.0  286.0  0.0  ...    1.0      1.5    2.0  3.0   3.0    1\n",
              "2  67.0  1.0  4.0     120.0  229.0  0.0  ...    1.0      2.6    2.0  2.0   7.0    1\n",
              "3  37.0  1.0  3.0     130.0  250.0  0.0  ...    0.0      3.5    3.0  0.0   3.0    0\n",
              "4  41.0  0.0  2.0     130.0  204.0  0.0  ...    0.0      1.4    1.0  0.0   3.0    0\n",
              "\n",
              "[5 rows x 14 columns]"
            ]
          },
          "metadata": {
            "tags": []
          },
          "execution_count": 4
        }
      ]
    },
    {
      "cell_type": "code",
      "metadata": {
        "id": "4vNXGC40nSkt",
        "colab_type": "code",
        "colab": {
          "base_uri": "https://localhost:8080/",
          "height": 204
        },
        "outputId": "8bbfe418-0430-4aa1-b827-869976f010bb"
      },
      "source": [
        "df_aux.head()"
      ],
      "execution_count": 5,
      "outputs": [
        {
          "output_type": "execute_result",
          "data": {
            "text/html": [
              "<div>\n",
              "<style scoped>\n",
              "    .dataframe tbody tr th:only-of-type {\n",
              "        vertical-align: middle;\n",
              "    }\n",
              "\n",
              "    .dataframe tbody tr th {\n",
              "        vertical-align: top;\n",
              "    }\n",
              "\n",
              "    .dataframe thead th {\n",
              "        text-align: right;\n",
              "    }\n",
              "</style>\n",
              "<table border=\"1\" class=\"dataframe\">\n",
              "  <thead>\n",
              "    <tr style=\"text-align: right;\">\n",
              "      <th></th>\n",
              "      <th>age</th>\n",
              "      <th>sex</th>\n",
              "      <th>cp</th>\n",
              "      <th>trestbps</th>\n",
              "      <th>chol</th>\n",
              "      <th>fbs</th>\n",
              "      <th>restecg</th>\n",
              "      <th>thalach</th>\n",
              "      <th>exang</th>\n",
              "      <th>oldpeak</th>\n",
              "      <th>slope</th>\n",
              "      <th>ca</th>\n",
              "      <th>thal</th>\n",
              "      <th>num</th>\n",
              "    </tr>\n",
              "  </thead>\n",
              "  <tbody>\n",
              "    <tr>\n",
              "      <th>0</th>\n",
              "      <td>44.0</td>\n",
              "      <td>1.0</td>\n",
              "      <td>4.0</td>\n",
              "      <td>120.0</td>\n",
              "      <td>169.0</td>\n",
              "      <td>0.0</td>\n",
              "      <td>0.0</td>\n",
              "      <td>144.0</td>\n",
              "      <td>1.0</td>\n",
              "      <td>2.8</td>\n",
              "      <td>3.0</td>\n",
              "      <td>0.0</td>\n",
              "      <td>6.0</td>\n",
              "      <td>1</td>\n",
              "    </tr>\n",
              "    <tr>\n",
              "      <th>1</th>\n",
              "      <td>63.0</td>\n",
              "      <td>1.0</td>\n",
              "      <td>4.0</td>\n",
              "      <td>140.0</td>\n",
              "      <td>187.0</td>\n",
              "      <td>0.0</td>\n",
              "      <td>2.0</td>\n",
              "      <td>144.0</td>\n",
              "      <td>1.0</td>\n",
              "      <td>4.0</td>\n",
              "      <td>1.0</td>\n",
              "      <td>2.0</td>\n",
              "      <td>7.0</td>\n",
              "      <td>1</td>\n",
              "    </tr>\n",
              "    <tr>\n",
              "      <th>2</th>\n",
              "      <td>63.0</td>\n",
              "      <td>0.0</td>\n",
              "      <td>4.0</td>\n",
              "      <td>124.0</td>\n",
              "      <td>197.0</td>\n",
              "      <td>0.0</td>\n",
              "      <td>0.0</td>\n",
              "      <td>136.0</td>\n",
              "      <td>1.0</td>\n",
              "      <td>0.0</td>\n",
              "      <td>2.0</td>\n",
              "      <td>0.0</td>\n",
              "      <td>3.0</td>\n",
              "      <td>1</td>\n",
              "    </tr>\n",
              "    <tr>\n",
              "      <th>3</th>\n",
              "      <td>41.0</td>\n",
              "      <td>1.0</td>\n",
              "      <td>2.0</td>\n",
              "      <td>120.0</td>\n",
              "      <td>157.0</td>\n",
              "      <td>0.0</td>\n",
              "      <td>0.0</td>\n",
              "      <td>182.0</td>\n",
              "      <td>0.0</td>\n",
              "      <td>0.0</td>\n",
              "      <td>1.0</td>\n",
              "      <td>0.0</td>\n",
              "      <td>3.0</td>\n",
              "      <td>0</td>\n",
              "    </tr>\n",
              "    <tr>\n",
              "      <th>4</th>\n",
              "      <td>59.0</td>\n",
              "      <td>1.0</td>\n",
              "      <td>4.0</td>\n",
              "      <td>164.0</td>\n",
              "      <td>176.0</td>\n",
              "      <td>1.0</td>\n",
              "      <td>2.0</td>\n",
              "      <td>90.0</td>\n",
              "      <td>0.0</td>\n",
              "      <td>1.0</td>\n",
              "      <td>2.0</td>\n",
              "      <td>2.0</td>\n",
              "      <td>6.0</td>\n",
              "      <td>1</td>\n",
              "    </tr>\n",
              "  </tbody>\n",
              "</table>\n",
              "</div>"
            ],
            "text/plain": [
              "    age  sex   cp  trestbps   chol  fbs  ...  exang  oldpeak  slope   ca  thal  num\n",
              "0  44.0  1.0  4.0     120.0  169.0  0.0  ...    1.0      2.8    3.0  0.0   6.0    1\n",
              "1  63.0  1.0  4.0     140.0  187.0  0.0  ...    1.0      4.0    1.0  2.0   7.0    1\n",
              "2  63.0  0.0  4.0     124.0  197.0  0.0  ...    1.0      0.0    2.0  0.0   3.0    1\n",
              "3  41.0  1.0  2.0     120.0  157.0  0.0  ...    0.0      0.0    1.0  0.0   3.0    0\n",
              "4  59.0  1.0  4.0     164.0  176.0  1.0  ...    0.0      1.0    2.0  2.0   6.0    1\n",
              "\n",
              "[5 rows x 14 columns]"
            ]
          },
          "metadata": {
            "tags": []
          },
          "execution_count": 5
        }
      ]
    },
    {
      "cell_type": "code",
      "metadata": {
        "id": "7CqK7-PBnakx",
        "colab_type": "code",
        "colab": {
          "base_uri": "https://localhost:8080/",
          "height": 51
        },
        "outputId": "3109bd9d-21a9-4cc1-ecb8-5c803951c2fd"
      },
      "source": [
        "print('Proporção de pacientes diagnosticados como não tendo doença cardíaca:\\t {:.2f}%'.format(((df_model['num'].value_counts()[0]/df_model.shape[0])*100).round(2)))\n",
        "print('Proporção de pacientes diagnosticados como tendo doença cardíaca:\\t {:.2f}%'.format(((df_model['num'].value_counts()[1]/df_model.shape[0])*100).round(2)))"
      ],
      "execution_count": 6,
      "outputs": [
        {
          "output_type": "stream",
          "text": [
            "Proporção de pacientes diagnosticados como não tendo doença cardíaca:\t 55.40%\n",
            "Proporção de pacientes diagnosticados como tendo doença cardíaca:\t 44.60%\n"
          ],
          "name": "stdout"
        }
      ]
    },
    {
      "cell_type": "markdown",
      "metadata": {
        "id": "iqcXjx5BndSY",
        "colab_type": "text"
      },
      "source": [
        "### Erros"
      ]
    },
    {
      "cell_type": "code",
      "metadata": {
        "id": "2m191LbtnoCn",
        "colab_type": "code",
        "colab": {
          "base_uri": "https://localhost:8080/",
          "height": 34
        },
        "outputId": "659ba0cc-5d78-4455-c24d-fece14d14278"
      },
      "source": [
        "from sklearn.model_selection import train_test_split\n",
        "\n",
        "X = df_model.drop('num', axis = 1)\n",
        "y = df_model['num']\n",
        "\n",
        "SEED = 42\n",
        "np.random.seed(SEED)\n",
        "\n",
        "X_train, X_test, y_train, y_test = train_test_split(X, y, test_size = 0.20)\n",
        "\n",
        "print('O dataset de treino possui {} pacientes e o de treino {} pacientes.'.format(X_train.shape[0], X_test.shape[0]))"
      ],
      "execution_count": 7,
      "outputs": [
        {
          "output_type": "stream",
          "text": [
            "O dataset de treino possui 229 pacientes e o de treino 58 pacientes.\n"
          ],
          "name": "stdout"
        }
      ]
    },
    {
      "cell_type": "code",
      "metadata": {
        "id": "wcbtotmknwbX",
        "colab_type": "code",
        "colab": {
          "base_uri": "https://localhost:8080/",
          "height": 34
        },
        "outputId": "bd5f2e06-7898-447d-b507-611cc1f2a21a"
      },
      "source": [
        "from sklearn.tree import DecisionTreeClassifier\n",
        "from sklearn.metrics import accuracy_score\n",
        "\n",
        "model = DecisionTreeClassifier(max_depth=2)\n",
        "model.fit(X_train, y_train)\n",
        "predict = model.predict(X_test)\n",
        "\n",
        "accuracy = accuracy_score(y_test, predict) * 100\n",
        "print (\"A acurácia foi de {:.2f}%.\".format(accuracy))"
      ],
      "execution_count": 8,
      "outputs": [
        {
          "output_type": "stream",
          "text": [
            "A acurácia foi de 79.31%.\n"
          ],
          "name": "stdout"
        }
      ]
    },
    {
      "cell_type": "code",
      "metadata": {
        "id": "1AC9HG6Vn1G7",
        "colab_type": "code",
        "colab": {
          "base_uri": "https://localhost:8080/",
          "height": 34
        },
        "outputId": "a07bd55e-5cdf-499d-ce22-0684b8c0ee63"
      },
      "source": [
        "model = DecisionTreeClassifier(max_depth=3)\n",
        "model.fit(X_train, y_train)\n",
        "predict = model.predict(X_test)\n",
        "\n",
        "accuracy = accuracy_score(y_test, predict) * 100\n",
        "print (\"A acurácia foi de {:.2f}%.\".format(accuracy))"
      ],
      "execution_count": 9,
      "outputs": [
        {
          "output_type": "stream",
          "text": [
            "A acurácia foi de 82.76%.\n"
          ],
          "name": "stdout"
        }
      ]
    },
    {
      "cell_type": "code",
      "metadata": {
        "id": "kvGLB4xpn4Bj",
        "colab_type": "code",
        "colab": {
          "base_uri": "https://localhost:8080/",
          "height": 34
        },
        "outputId": "9b97b840-4f00-451a-e6b8-6d5d615f6ebe"
      },
      "source": [
        "X_news = df_aux.drop('num', axis = 1)\n",
        "y_news = df_aux['num']\n",
        "\n",
        "predict = model.predict(X_news)\n",
        "\n",
        "accuracy = accuracy_score(y_news, predict) * 100\n",
        "print (\"A acurácia foi de {:.2f}%.\".format(accuracy))"
      ],
      "execution_count": 10,
      "outputs": [
        {
          "output_type": "stream",
          "text": [
            "A acurácia foi de 60.00%.\n"
          ],
          "name": "stdout"
        }
      ]
    },
    {
      "cell_type": "markdown",
      "metadata": {
        "id": "MG7yxaApoF6w",
        "colab_type": "text"
      },
      "source": [
        "### Primeiro passo"
      ]
    },
    {
      "cell_type": "code",
      "metadata": {
        "id": "uxqhYWpboKkX",
        "colab_type": "code",
        "colab": {
          "base_uri": "https://localhost:8080/",
          "height": 34
        },
        "outputId": "8fb08016-297c-4182-853a-cd7a991d6b8d"
      },
      "source": [
        "# divisao entre treino e teste do dataframe original\n",
        "from sklearn.model_selection import train_test_split\n",
        "\n",
        "SEED = 23\n",
        "np.random.seed(SEED)\n",
        "\n",
        "X = df.drop('num', axis = 1)\n",
        "y = df['num']\n",
        "\n",
        "X_train, X_test, y_train, y_test = train_test_split(X, y, test_size = 0.20, stratify = y)\n",
        "\n",
        "print('O dataset de treino possui {} pacientes e o de treino {} pacientes.'.format(X_train.shape[0], X_test.shape[0]))"
      ],
      "execution_count": 11,
      "outputs": [
        {
          "output_type": "stream",
          "text": [
            "O dataset de treino possui 237 pacientes e o de treino 60 pacientes.\n"
          ],
          "name": "stdout"
        }
      ]
    },
    {
      "cell_type": "markdown",
      "metadata": {
        "id": "-hi7wRnzo1VW",
        "colab_type": "text"
      },
      "source": [
        "### Segundo passo"
      ]
    },
    {
      "cell_type": "code",
      "metadata": {
        "id": "B0sKSGNqo5UL",
        "colab_type": "code",
        "colab": {
          "base_uri": "https://localhost:8080/",
          "height": 51
        },
        "outputId": "8eb54bef-41b9-4a38-d138-0533aa1b12da"
      },
      "source": [
        "from sklearn.model_selection import cross_val_score\n",
        "\n",
        "SEED = 42\n",
        "np.random.seed(SEED)\n",
        "\n",
        "model = DecisionTreeClassifier(max_depth=3)\n",
        "results = cross_val_score(model, X_train, y_train, cv = 5, scoring = 'accuracy')\n",
        "\n",
        "\n",
        "def intervalo(results):\n",
        "  mean = results.mean()\n",
        "  dv = results.std()\n",
        "  print('Acurácia média: {:.2f}%'.format(mean*100))\n",
        "  print('Intervalo de acurácia: [{:.2f}% ~ {:.2f}%]'.format((mean - 2*dv)*100, (mean + 2*dv)*100))\n",
        "\n",
        "intervalo(results)"
      ],
      "execution_count": 12,
      "outputs": [
        {
          "output_type": "stream",
          "text": [
            "Acurácia média: 74.66%\n",
            "Intervalo de acurácia: [67.38% ~ 81.95%]\n"
          ],
          "name": "stdout"
        }
      ]
    },
    {
      "cell_type": "code",
      "metadata": {
        "id": "1hlVnPbCo8J1",
        "colab_type": "code",
        "colab": {
          "base_uri": "https://localhost:8080/",
          "height": 51
        },
        "outputId": "447fe912-8b72-4e4b-a1d6-579ef31088a6"
      },
      "source": [
        "from sklearn.model_selection import KFold\n",
        "\n",
        "np.random.seed(SEED)\n",
        "\n",
        "cv = KFold(n_splits = 5, shuffle = True)\n",
        "\n",
        "model = DecisionTreeClassifier(max_depth=3)\n",
        "results = cross_val_score(model, X_train, y_train, cv = cv)\n",
        "intervalo(results)"
      ],
      "execution_count": 13,
      "outputs": [
        {
          "output_type": "stream",
          "text": [
            "Acurácia média: 72.57%\n",
            "Intervalo de acurácia: [62.50% ~ 82.64%]\n"
          ],
          "name": "stdout"
        }
      ]
    },
    {
      "cell_type": "code",
      "metadata": {
        "id": "OkzhuRvmpExv",
        "colab_type": "code",
        "colab": {
          "base_uri": "https://localhost:8080/",
          "height": 51
        },
        "outputId": "16cc004a-3791-4d41-ce0d-b1f6d7cddc50"
      },
      "source": [
        "from sklearn.model_selection import StratifiedKFold\n",
        "\n",
        "np.random.seed(SEED)\n",
        "\n",
        "cv = StratifiedKFold(n_splits = 5, shuffle = True)\n",
        "\n",
        "model = DecisionTreeClassifier(max_depth=3)\n",
        "results = cross_val_score(model, X_train, y_train, cv = cv)\n",
        "intervalo(results)"
      ],
      "execution_count": 14,
      "outputs": [
        {
          "output_type": "stream",
          "text": [
            "Acurácia média: 75.97%\n",
            "Intervalo de acurácia: [71.26% ~ 80.67%]\n"
          ],
          "name": "stdout"
        }
      ]
    },
    {
      "cell_type": "markdown",
      "metadata": {
        "id": "qBvXieo9pK5m",
        "colab_type": "text"
      },
      "source": [
        "### Terceiro passo"
      ]
    },
    {
      "cell_type": "markdown",
      "metadata": {
        "id": "auEvzZa_pQXA",
        "colab_type": "text"
      },
      "source": [
        "#### Hiperparâmetros"
      ]
    },
    {
      "cell_type": "code",
      "metadata": {
        "id": "9I0Z65_ppS8n",
        "colab_type": "code",
        "colab": {
          "base_uri": "https://localhost:8080/",
          "height": 170
        },
        "outputId": "e2beae73-5810-4c03-cb44-04b3b4241cae"
      },
      "source": [
        "max_depth = [3, 2, 4]\n",
        "\n",
        "for item in max_depth:\n",
        "  np.random.seed(SEED)\n",
        "  cv = StratifiedKFold(n_splits = 5, shuffle = True)\n",
        "  model = DecisionTreeClassifier(max_depth=item)\n",
        "  results = cross_val_score(model, X_train, y_train, cv = cv, scoring = 'accuracy')\n",
        "  mean = results.mean()\n",
        "  dv = results.std()\n",
        "  print('Acurácia média - Max Depth {}: {:.2f}%'.format(item, mean*100))\n",
        "  print('Intervalo de acurácia - Max Depth {}: [{:.2f}% ~ {:.2f}%]\\n'.format(item, (mean - 2*dv)*100, (mean + 2*dv)*100))"
      ],
      "execution_count": 15,
      "outputs": [
        {
          "output_type": "stream",
          "text": [
            "Acurácia média - Max Depth 3: 75.97%\n",
            "Intervalo de acurácia - Max Depth 3: [71.26% ~ 80.67%]\n",
            "\n",
            "Acurácia média - Max Depth 2: 74.74%\n",
            "Intervalo de acurácia - Max Depth 2: [61.41% ~ 88.08%]\n",
            "\n",
            "Acurácia média - Max Depth 4: 73.44%\n",
            "Intervalo de acurácia - Max Depth 4: [62.86% ~ 84.02%]\n",
            "\n"
          ],
          "name": "stdout"
        }
      ]
    },
    {
      "cell_type": "markdown",
      "metadata": {
        "id": "4WLs4perpW4U",
        "colab_type": "text"
      },
      "source": [
        "#### Modelos"
      ]
    },
    {
      "cell_type": "code",
      "metadata": {
        "id": "VCXjaiuIsvKT",
        "colab_type": "code",
        "colab": {
          "base_uri": "https://localhost:8080/",
          "height": 221
        },
        "outputId": "25544bf0-90f7-49ad-840d-b9fe0ec2ad45"
      },
      "source": [
        "from sklearn.svm import SVC\n",
        "from sklearn.linear_model import LogisticRegression\n",
        "from sklearn.ensemble import RandomForestClassifier\n",
        "\n",
        "np.random.seed(SEED)\n",
        "\n",
        "cv = StratifiedKFold(n_splits = 5, shuffle = True)\n",
        "\n",
        "model = DecisionTreeClassifier(max_depth=3)\n",
        "model_svc = SVC()\n",
        "model_log = LogisticRegression(solver='liblinear')\n",
        "model_rand = RandomForestClassifier(n_estimators=100)\n",
        "\n",
        "models = [model, model_svc, model_log, model_rand]\n",
        "name = ['Árvore de Decisão', 'SVC', 'Regressão Logística', 'Random Forest']\n",
        "\n",
        "count = 0\n",
        "for item in models:\n",
        "  np.random.seed(SEED)\n",
        "  results = cross_val_score(item, X_train, y_train, cv = cv, scoring = 'accuracy')\n",
        "  mean = results.mean()\n",
        "  dv = results.std()\n",
        "  print('Acurácia média - Modelo {}: {:.2f}%'.format(name[count], mean*100))\n",
        "  print('Intervalo de acurácia - Modelo {}: [{:.2f}% ~ {:.2f}%]\\n'.format(name[count], (mean - 2*dv)*100, (mean + 2*dv)*100))\n",
        "  count += 1\n"
      ],
      "execution_count": 16,
      "outputs": [
        {
          "output_type": "stream",
          "text": [
            "Acurácia média - Modelo Árvore de Decisão: 75.97%\n",
            "Intervalo de acurácia - Modelo Árvore de Decisão: [71.26% ~ 80.67%]\n",
            "\n",
            "Acurácia média - Modelo SVC: 67.52%\n",
            "Intervalo de acurácia - Modelo SVC: [56.79% ~ 78.25%]\n",
            "\n",
            "Acurácia média - Modelo Regressão Logística: 84.85%\n",
            "Intervalo de acurácia - Modelo Regressão Logística: [74.00% ~ 95.70%]\n",
            "\n",
            "Acurácia média - Modelo Random Forest: 83.15%\n",
            "Intervalo de acurácia - Modelo Random Forest: [72.41% ~ 93.89%]\n",
            "\n"
          ],
          "name": "stdout"
        }
      ]
    },
    {
      "cell_type": "markdown",
      "metadata": {
        "id": "3PnNACZnp9v_",
        "colab_type": "text"
      },
      "source": [
        "### Quarto passo"
      ]
    },
    {
      "cell_type": "markdown",
      "metadata": {
        "id": "HyLVHydfqfZP",
        "colab_type": "text"
      },
      "source": [
        "#### Precisão"
      ]
    },
    {
      "cell_type": "code",
      "metadata": {
        "id": "Z5rpLrIHqROi",
        "colab_type": "code",
        "colab": {
          "base_uri": "https://localhost:8080/",
          "height": 51
        },
        "outputId": "6e63eded-5463-4c2c-ad77-52d8c5d7f2c0"
      },
      "source": [
        "def intervalo_prec(results):\n",
        "  mean = results.mean()\n",
        "  dv = results.std()\n",
        "  print('Precisão média: {:.2f}%'.format(mean*100))\n",
        "  print('Intervalo de Precisão: [{:.2f}% ~ {:.2f}%]'.format((mean - 2*dv)*100, (mean + 2*dv)*100))\n",
        "\n",
        "np.random.seed(SEED)\n",
        "\n",
        "cv = StratifiedKFold(n_splits = 5, shuffle = True)\n",
        "\n",
        "model = LogisticRegression(solver='liblinear')\n",
        "results = cross_val_score(model, X_train, y_train, cv = cv, scoring = 'precision')\n",
        "intervalo_prec(results)"
      ],
      "execution_count": 17,
      "outputs": [
        {
          "output_type": "stream",
          "text": [
            "Precisão média: 86.16%\n",
            "Intervalo de Precisão: [74.66% ~ 97.65%]\n"
          ],
          "name": "stdout"
        }
      ]
    },
    {
      "cell_type": "markdown",
      "metadata": {
        "id": "o8NQXb8vqU_X",
        "colab_type": "text"
      },
      "source": [
        "#### Recall"
      ]
    },
    {
      "cell_type": "code",
      "metadata": {
        "id": "qqAETVuDqlGa",
        "colab_type": "code",
        "colab": {
          "base_uri": "https://localhost:8080/",
          "height": 51
        },
        "outputId": "6168dc75-5f94-4f90-b2d3-0b836472a9f1"
      },
      "source": [
        "def intervalo_recall(results):\n",
        "  mean = results.mean()\n",
        "  dv = results.std()\n",
        "  print('Recall médio: {:.2f}%'.format(mean*100))\n",
        "  print('Intervalo de Recall: [{:.2f}% ~ {:.2f}%]'.format((mean - 2*dv)*100, (mean + 2*dv)*100))\n",
        "\n",
        "np.random.seed(SEED)\n",
        "\n",
        "cv = StratifiedKFold(n_splits = 5, shuffle = True)\n",
        "\n",
        "model = LogisticRegression(solver='liblinear')\n",
        "results = cross_val_score(model, X_train, y_train, cv = cv, scoring = 'recall')\n",
        "intervalo_recall(results)"
      ],
      "execution_count": 18,
      "outputs": [
        {
          "output_type": "stream",
          "text": [
            "Recall médio: 79.91%\n",
            "Intervalo de Recall: [64.30% ~ 95.53%]\n"
          ],
          "name": "stdout"
        }
      ]
    },
    {
      "cell_type": "markdown",
      "metadata": {
        "id": "n8PHilkGqoUW",
        "colab_type": "text"
      },
      "source": [
        "#### Trade-off: precisão x recall"
      ]
    },
    {
      "cell_type": "code",
      "metadata": {
        "id": "q2gUnsXHtEhX",
        "colab_type": "code",
        "colab": {
          "base_uri": "https://localhost:8080/",
          "height": 247
        },
        "outputId": "bc881fe8-2efa-41da-b528-a395cbd91282"
      },
      "source": [
        "from sklearn.model_selection import cross_val_predict\n",
        "from sklearn.metrics import precision_recall_curve\n",
        "\n",
        "np.random.seed(SEED)\n",
        "\n",
        "cv = StratifiedKFold(n_splits = 5, shuffle = True)\n",
        "\n",
        "model = LogisticRegression(solver='liblinear')\n",
        "y_scores = cross_val_predict(model, X_train, y_train, cv = cv, method = 'decision_function')\n",
        "\n",
        "precisions, recalls, thresholds = precision_recall_curve(y_train, y_scores)\n",
        "\n",
        "fig, ax = plt.subplots(figsize = (12,3))\n",
        "\n",
        "plt.plot(thresholds, precisions[:-1], 'b--', label = 'Precisão')\n",
        "plt.plot(thresholds, recalls[:-1], 'g-', label = 'Recall')\n",
        "plt.xlabel('Threshold')\n",
        "plt.legend(loc = 'center right')\n",
        "plt.ylim([0,1])\n",
        "plt.title('Precisão x Recall', fontsize = 14)\n",
        "\n",
        "plt.show()"
      ],
      "execution_count": 19,
      "outputs": [
        {
          "output_type": "display_data",
          "data": {
            "image/png": "[encoded data removed]",
            "text/plain": [
              "<Figure size 864x216 with 1 Axes>"
            ]
          },
          "metadata": {
            "tags": []
          }
        }
      ]
    },
    {
      "cell_type": "code",
      "metadata": {
        "id": "MycYHzt7tIVa",
        "colab_type": "code",
        "colab": {
          "base_uri": "https://localhost:8080/",
          "height": 51
        },
        "outputId": "3e2d48d7-2974-4f35-8a14-03f5c9e313a5"
      },
      "source": [
        "from sklearn.metrics import precision_score, recall_score\n",
        "\n",
        "y_train_pred_recall_90 = (y_scores > -2)\n",
        "\n",
        "print('Nova precisão: {:.4f}'.format(precision_score(y_train,y_train_pred_recall_90)))\n",
        "print('Novo recall: {:.4f}'.format(recall_score(y_train,y_train_pred_recall_90)))"
      ],
      "execution_count": 20,
      "outputs": [
        {
          "output_type": "stream",
          "text": [
            "Nova precisão: 0.6145\n",
            "Novo recall: 0.9358\n"
          ],
          "name": "stdout"
        }
      ]
    },
    {
      "cell_type": "markdown",
      "metadata": {
        "id": "IgWc5Zoatiyv",
        "colab_type": "text"
      },
      "source": [
        "#### Matriz de confusão e relatório de classificação"
      ]
    },
    {
      "cell_type": "code",
      "metadata": {
        "id": "QNd0KxX0to0o",
        "colab_type": "code",
        "colab": {
          "base_uri": "https://localhost:8080/",
          "height": 293
        },
        "outputId": "a37e7477-5d1d-46e2-d484-2fef4173687f"
      },
      "source": [
        "from sklearn.model_selection import cross_val_predict\n",
        "from sklearn.metrics import confusion_matrix\n",
        "\n",
        "np.random.seed(SEED)\n",
        "\n",
        "cv = StratifiedKFold(n_splits = 5, shuffle = True)\n",
        "\n",
        "model = LogisticRegression(solver='liblinear')\n",
        "y_pred = cross_val_predict(model, X_train, y_train, cv = cv)\n",
        "\n",
        "fig, ax = plt.subplots()\n",
        "sns.heatmap(confusion_matrix(y_train, y_pred), annot=True, ax=ax, fmt='d', cmap='Reds')\n",
        "\n",
        "ax.set_title(\"Matriz de Confusão\", fontsize=18)\n",
        "ax.set_ylabel(\"True label\")\n",
        "ax.set_xlabel(\"Predicted Label\")\n",
        "\n",
        "plt.tight_layout()\n"
      ],
      "execution_count": 21,
      "outputs": [
        {
          "output_type": "display_data",
          "data": {
            "image/png": "[encoded data removed]",
            "text/plain": [
              "<Figure size 432x288 with 2 Axes>"
            ]
          },
          "metadata": {
            "tags": []
          }
        }
      ]
    },
    {
      "cell_type": "code",
      "metadata": {
        "id": "FTX3GSKItrkE",
        "colab_type": "code",
        "colab": {
          "base_uri": "https://localhost:8080/",
          "height": 187
        },
        "outputId": "da92350e-0b24-4076-89d7-e77c7e7cfba6"
      },
      "source": [
        "from sklearn.metrics import classification_report\n",
        "\n",
        "# relatório do modelo\n",
        "print('Relatório de classificação:\\n', classification_report(y_train, y_pred, digits=4))"
      ],
      "execution_count": 22,
      "outputs": [
        {
          "output_type": "stream",
          "text": [
            "Relatório de classificação:\n",
            "               precision    recall  f1-score   support\n",
            "\n",
            "           0     0.8382    0.8906    0.8636       128\n",
            "           1     0.8614    0.7982    0.8286       109\n",
            "\n",
            "    accuracy                         0.8481       237\n",
            "   macro avg     0.8498    0.8444    0.8461       237\n",
            "weighted avg     0.8489    0.8481    0.8475       237\n",
            "\n"
          ],
          "name": "stdout"
        }
      ]
    },
    {
      "cell_type": "markdown",
      "metadata": {
        "id": "uzI_xEFNtwIv",
        "colab_type": "text"
      },
      "source": [
        "#### Curva ROC"
      ]
    },
    {
      "cell_type": "code",
      "metadata": {
        "id": "FLF7lg-wt09T",
        "colab_type": "code",
        "colab": {
          "base_uri": "https://localhost:8080/",
          "height": 302
        },
        "outputId": "a44379c8-e6d2-4888-e7df-a145f769a24b"
      },
      "source": [
        "from sklearn.metrics import roc_curve\n",
        "\n",
        "fpr, tpr, thresholds = roc_curve(y_train, y_scores)\n",
        "\n",
        "fig, ax = plt.subplots(figsize = (12,4))\n",
        "\n",
        "plt.plot(fpr, tpr, linewidth=2, label = 'Logistic Regression')\n",
        "plt.plot([0,1], [0,1], 'k--')\n",
        "plt.axis([0, 1, 0, 1])\n",
        "plt.xlabel('Taxa de Falsos Positivos')\n",
        "plt.ylabel('Taxa de Verdadeiros Positivos')\n",
        "plt.legend(loc = 'lower right')\n",
        "plt.title('Curva ROC', fontsize = 14)\n",
        "\n",
        "plt.show()"
      ],
      "execution_count": 23,
      "outputs": [
        {
          "output_type": "display_data",
          "data": {
            "image/png": "[encoded data removed]",
            "text/plain": [
              "<Figure size 864x288 with 1 Axes>"
            ]
          },
          "metadata": {
            "tags": []
          }
        }
      ]
    },
    {
      "cell_type": "code",
      "metadata": {
        "id": "AR3_VauTt8YC",
        "colab_type": "code",
        "colab": {
          "base_uri": "https://localhost:8080/",
          "height": 34
        },
        "outputId": "f32ddb6b-2dd8-494a-d14a-72ce9d157e05"
      },
      "source": [
        "from sklearn.metrics import roc_auc_score\n",
        "print('Área sob a curva ROC: {:.4f}'.format(roc_auc_score(y_train, y_scores)))"
      ],
      "execution_count": 24,
      "outputs": [
        {
          "output_type": "stream",
          "text": [
            "Área sob a curva ROC: 0.8997\n"
          ],
          "name": "stdout"
        }
      ]
    },
    {
      "cell_type": "code",
      "metadata": {
        "id": "HwEJRa_Ot-5Y",
        "colab_type": "code",
        "colab": {
          "base_uri": "https://localhost:8080/",
          "height": 336
        },
        "outputId": "3364b5d0-afc0-4852-b4c9-389104ae851f"
      },
      "source": [
        "np.random.seed(SEED)\n",
        "\n",
        "cv = StratifiedKFold(n_splits = 5, shuffle = True)\n",
        "\n",
        "model_rf = RandomForestClassifier(n_estimators=100)\n",
        "y_prob_forest = cross_val_predict(model_rf, X_train, y_train, cv = cv, method = 'predict_proba')\n",
        "\n",
        "y_scores_forest = y_prob_forest[:,1]\n",
        "fpr_forest, tpr_forest, thresholds_forest = roc_curve(y_train, y_scores_forest)\n",
        "\n",
        "fig, ax = plt.subplots(figsize = (12,4))\n",
        "\n",
        "plt.plot(fpr, tpr, linewidth=2, label = 'Logistic Regression')\n",
        "plt.plot(fpr_forest, tpr_forest, linewidth=2, label = 'Random Forest')\n",
        "plt.plot([0,1], [0,1], 'k--')\n",
        "plt.axis([0, 1, 0, 1])\n",
        "plt.xlabel('Taxa de Falsos Positivos')\n",
        "plt.ylabel('Taxa de Verdadeiros Positivos')\n",
        "plt.legend(loc = 'lower right')\n",
        "plt.title('Curva ROC', fontsize = 14)\n",
        "\n",
        "plt.show()\n",
        "\n",
        "print('Área sob a curva ROC - Logistic Regression: {:.4f}'.format(roc_auc_score(y_train, y_scores)))\n",
        "print('Área sob a curva ROC - Random Forest: {:.4f}'.format(roc_auc_score(y_train, y_scores_forest)))"
      ],
      "execution_count": 25,
      "outputs": [
        {
          "output_type": "display_data",
          "data": {
            "image/png": "[encoded data removed]",
            "text/plain": [
              "<Figure size 864x288 with 1 Axes>"
            ]
          },
          "metadata": {
            "tags": []
          }
        },
        {
          "output_type": "stream",
          "text": [
            "Área sob a curva ROC - Logistic Regression: 0.8997\n",
            "Área sob a curva ROC - Random Forest: 0.8956\n"
          ],
          "name": "stdout"
        }
      ]
    },
    {
      "cell_type": "markdown",
      "metadata": {
        "id": "t0kqA9JEuDHy",
        "colab_type": "text"
      },
      "source": [
        "### Quinto passo"
      ]
    },
    {
      "cell_type": "markdown",
      "metadata": {
        "id": "6_hCYg_OuMDj",
        "colab_type": "text"
      },
      "source": [
        "### Sexto passo"
      ]
    },
    {
      "cell_type": "code",
      "metadata": {
        "id": "OPzb24FsuQwA",
        "colab_type": "code",
        "colab": {
          "base_uri": "https://localhost:8080/",
          "height": 221
        },
        "outputId": "7eecc795-1f83-4810-c410-814a52f6aad3"
      },
      "source": [
        "np.random.seed(SEED)\n",
        "\n",
        "final_model = LogisticRegression(solver='liblinear')\n",
        "final_model.fit(X_train, y_train)\n",
        "\n",
        "y_pred = final_model.predict(X_test)\n",
        "y_prob = final_model.predict_proba(X_test)\n",
        "\n",
        "# imprimir relatório de classificação\n",
        "print(\"Relatório de Classificação:\\n\", classification_report(y_test, y_pred, digits=4))\n",
        " \n",
        "# imprimir a área sob a curva\n",
        "print(\"AUC: {:.4f}\\n\".format(roc_auc_score(y_test,y_prob[:,1])))"
      ],
      "execution_count": 26,
      "outputs": [
        {
          "output_type": "stream",
          "text": [
            "Relatório de Classificação:\n",
            "               precision    recall  f1-score   support\n",
            "\n",
            "           0     0.7561    0.9688    0.8493        32\n",
            "           1     0.9474    0.6429    0.7660        28\n",
            "\n",
            "    accuracy                         0.8167        60\n",
            "   macro avg     0.8517    0.8058    0.8076        60\n",
            "weighted avg     0.8454    0.8167    0.8104        60\n",
            "\n",
            "AUC: 0.8873\n",
            "\n"
          ],
          "name": "stdout"
        }
      ]
    },
    {
      "cell_type": "code",
      "metadata": {
        "id": "0huZPMuKuUCR",
        "colab_type": "code",
        "colab": {
          "base_uri": "https://localhost:8080/",
          "height": 51
        },
        "outputId": "77a0498e-2b5a-4630-9704-0f39f46ca95d"
      },
      "source": [
        "y_scores_final = final_model.decision_function(X_test)\n",
        "y_test_pred_recall_90 = (y_scores_final > -2)\n",
        "\n",
        "print('Nova precisão: {:.4f}'.format(precision_score(y_test,y_test_pred_recall_90)))\n",
        "print('Novo recall: {:.4f}'.format(recall_score(y_test,y_test_pred_recall_90)))"
      ],
      "execution_count": 27,
      "outputs": [
        {
          "output_type": "stream",
          "text": [
            "Nova precisão: 0.6429\n",
            "Novo recall: 0.9643\n"
          ],
          "name": "stdout"
        }
      ]
    },
    {
      "cell_type": "markdown",
      "metadata": {
        "id": "u-MqirjIucZ4",
        "colab_type": "text"
      },
      "source": [
        "### Sétimo passo"
      ]
    },
    {
      "cell_type": "code",
      "metadata": {
        "id": "xYSn6dCTuY6Y",
        "colab_type": "code",
        "colab": {}
      },
      "source": [
        "np.random.seed(SEED)\n",
        "\n",
        "deploy_model = LogisticRegression(solver='liblinear')\n",
        "deploy_model.fit(X, y)\n",
        "\n",
        "def previsao_threshold(data, threshold = -2):\n",
        "  y_previsao = deploy_model.decision_function(data)\n",
        "  y_threshold = (y_previsao > threshold)\n",
        "  print(y_previsao)\n",
        "  print(y_threshold)\n",
        "  if threshold == True:\n",
        "    print('Paciente diagnosticado com doença cardíaca.')\n",
        "  else:\n",
        "    print('Paciente liberado')"
      ],
      "execution_count": 0,
      "outputs": []
    }
  ]
}